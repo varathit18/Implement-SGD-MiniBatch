{
  "nbformat": 4,
  "nbformat_minor": 0,
  "metadata": {
    "colab": {
      "provenance": []
    },
    "kernelspec": {
      "name": "python3",
      "display_name": "Python 3"
    },
    "language_info": {
      "name": "python"
    }
  },
  "cells": [
    {
      "cell_type": "markdown",
      "source": [
        "Stochastic GD"
      ],
      "metadata": {
        "id": "HN6ZigMkj-k1"
      }
    },
    {
      "cell_type": "code",
      "execution_count": null,
      "metadata": {
        "colab": {
          "base_uri": "https://localhost:8080/"
        },
        "id": "7nwjr0KJibFA",
        "outputId": "dd227db5-c158-4965-ee4f-b59a6c64944f"
      },
      "outputs": [
        {
          "output_type": "stream",
          "name": "stdout",
          "text": [
            "start main\n",
            "(3, 3)\n",
            "(3, 1)\n",
            "Num of data =  3\n",
            "Init theta.shape =  (3, 1)\n",
            "First J =  1.6112777440949486\n",
            "       Converged, iterations:  72444 / 1000000\n",
            "Theta =  [[ 7.]\n",
            " [15.]\n",
            " [-6.]]\n",
            "y predict =  [[13.]]\n"
          ]
        }
      ],
      "source": [
        "import numpy as np\n",
        "np.set_printoptions(precision=2)\n",
        "from sklearn.datasets import make_regression\n",
        "\n",
        "#x, y = make_regression(n_samples=10, n_features=2, noise=2, random_state=123)\n",
        "#x = np.array([[0,2,3],[1,6,8]]).T\n",
        "x = np.array([[0,1],[2,6],[3,8]]) #x1, x2\n",
        "y = np.array([1,1,4])\n",
        "\n",
        "x_b = np.c_[np.ones((x.shape[0],1)),x]\n",
        "\n",
        "def cost_function(theta, x, y, N):\n",
        "    y_hat = x.dot(theta)\n",
        "    c = (1/(2*N))*np.sum((y_hat - y)**2)\n",
        "    return c\n",
        "\n",
        "def stochastic_gradient_descent(alpha, x, y, ep=0.001, max_iter=10000):\n",
        "    converged = False\n",
        "    iter = 0\n",
        "    N = x.shape[0]  # number of samples\n",
        "    print(\"Num of data = \", N)\n",
        "\n",
        "    # Initial theta\n",
        "    theta = np.random.random((x.shape[1], 1))\n",
        "    print(\"Init theta.shape = \", theta.shape)\n",
        "\n",
        "    # Total error, J(theta)\n",
        "    J = cost_function(theta, x, y, N)\n",
        "    print(\"First J = \", J)\n",
        "\n",
        "    # Iterate Loop\n",
        "    while not converged:\n",
        "        # Shuffle data\n",
        "        indices = np.arange(N)\n",
        "        np.random.shuffle(indices)\n",
        "        x_shuffled = x[indices]\n",
        "        y_shuffled = y[indices]\n",
        "\n",
        "        for i in range(N):\n",
        "            xi = x_shuffled[i:i+1]  # Get the i-th training example\n",
        "            yi = y_shuffled[i:i+1]  # Get the corresponding label\n",
        "\n",
        "            y_hat = xi.dot(theta)\n",
        "            diff = y_hat - yi\n",
        "            grad = xi.T.dot(diff)\n",
        "            theta = theta - alpha * grad\n",
        "\n",
        "        # Error after one full pass over the data\n",
        "        J2 = cost_function(theta, x, y, N)\n",
        "\n",
        "        if abs(J - J2) <= ep:\n",
        "            print(\"       Converged, iterations: \", iter, \"/\", max_iter)\n",
        "            converged = True\n",
        "\n",
        "        J = J2  # Update error\n",
        "        iter += 1  # Update iteration count\n",
        "\n",
        "        if iter == max_iter:\n",
        "            print('       Max iterations exceeded!')\n",
        "            converged = True\n",
        "\n",
        "    return theta\n",
        "\n",
        "if __name__ == '__main__':\n",
        "    print(\"start main\")\n",
        "    print(x_b.shape)\n",
        "    y = y.reshape(-1, 1)\n",
        "    print(y.shape)\n",
        "\n",
        "    alpha = 0.01  # learning rate\n",
        "    # Training process\n",
        "    theta = stochastic_gradient_descent(alpha, x_b, y, ep=0.000000000001, max_iter=1000000)\n",
        "    print(\"Theta = \", theta)\n",
        "\n",
        "    # Predict trained x\n",
        "    xtest = np.array([[4, 9]])\n",
        "    xtest_b = np.c_[np.ones((xtest.shape[0], 1)), xtest]\n",
        "    y_p = xtest_b.dot(theta)\n",
        "    print(\"y predict = \", y_p)"
      ]
    },
    {
      "cell_type": "markdown",
      "source": [
        "Mini-batch GD (size = 2)"
      ],
      "metadata": {
        "id": "smgyA6D7kCS4"
      }
    },
    {
      "cell_type": "code",
      "source": [
        "import numpy as np\n",
        "def cost_function(theta, x, y, N):\n",
        "  y_hat = x.dot(theta)\n",
        "  c = (1/(2*N))*np.sum((y_hat-y)**2)\n",
        "  return c\n",
        "\n",
        "def mini_batch_gradient_descent(alpha, x, y, batch_size, ep=0.001, max_iter=10000):\n",
        "  converged = False\n",
        "  iter = 0\n",
        "  N = x.shape[0] # number of samples\n",
        "  print(\"Num of data = \",N)\n",
        "\n",
        "  # initial theta\n",
        "  theta =  np.random.random((x.shape[1],1))\n",
        "  print(\"Init theta.shape = \",theta.shape)\n",
        "\n",
        "  # total error, J(theta)\n",
        "  J = cost_function(theta, x, y, N)\n",
        "  print(\"First J = \",J)\n",
        "\n",
        "  # Iterate Loop\n",
        "  while not converged:\n",
        "    for i in range(0, N, batch_size):\n",
        "      x_batch = x[i: i + batch_size]\n",
        "      y_batch = y[i: i + batch_size]\n",
        "      y_hat = x_batch.dot(theta)\n",
        "      diff = y_hat - y_batch\n",
        "      grad = x_batch.T.dot(diff)\n",
        "      theta = theta - alpha * (1/batch_size) * grad\n",
        "\n",
        "    # error\n",
        "    J2 = cost_function(theta, x, y, N)\n",
        "\n",
        "    if abs(J-J2) <= ep:\n",
        "        print(\"       Converged, iterations: \", iter, \"/\", max_iter)\n",
        "        converged = True\n",
        "\n",
        "    J = J2   # update error s\n",
        "    iter += 1  # update iter\n",
        "\n",
        "    if iter == max_iter:\n",
        "        print('       Max iterations exceeded!')\n",
        "        converged = True\n",
        "\n",
        "  return theta\n",
        "if __name__ == '__main__':\n",
        "\n",
        "  print(\"start main\")\n",
        "  print(x_b.shape)\n",
        "  y = y.reshape(-1,1)\n",
        "  print(y.shape)\n",
        "\n",
        "  alpha = 0.01 # learning rate\n",
        "  batch_size = 2\n",
        "  #Training process\n",
        "  theta = mini_batch_gradient_descent(alpha, x_b, y, batch_size, ep=0.000000000001, max_iter=1000000)\n",
        "  print (\"Theta = \", theta)\n",
        "\n",
        "  #predict trainned x\n",
        "  xtest = np.array([[4,9]])\n",
        "  xtest_b = np.c_[np.ones((xtest.shape[0],1)),xtest]\n",
        "  y_p = xtest_b.dot(theta)\n",
        "  print(\"y predict = \",y_p)"
      ],
      "metadata": {
        "colab": {
          "base_uri": "https://localhost:8080/"
        },
        "id": "SZNy5AqJkFtI",
        "outputId": "0b7d56f1-9b45-4411-f1a2-064e6fe88b47"
      },
      "execution_count": null,
      "outputs": [
        {
          "output_type": "stream",
          "name": "stdout",
          "text": [
            "start main\n",
            "(3, 3)\n",
            "(3, 1)\n",
            "Num of data =  3\n",
            "Init theta.shape =  (3, 1)\n",
            "First J =  0.5089249512702181\n",
            "       Converged, iterations:  169658 / 1000000\n",
            "Theta =  [[ 7.]\n",
            " [15.]\n",
            " [-6.]]\n",
            "y predict =  [[13.]]\n"
          ]
        }
      ]
    }
  ]
}